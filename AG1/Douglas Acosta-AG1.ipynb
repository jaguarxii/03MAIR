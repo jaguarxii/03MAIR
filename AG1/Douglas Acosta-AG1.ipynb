{
 "cells": [
  {
   "cell_type": "markdown",
   "metadata": {},
   "source": [
    "## AG1 - Actividad Guiada 1\n",
    "\n",
    "### Douglas Humberto Acosta Egas\n",
    "\n",
    "#### URL: https://github.com/jaguarxii/03MAIR-AlgoritmosOptimizacion/tree/master/AG1"
   ]
  },
  {
   "cell_type": "markdown",
   "metadata": {},
   "source": [
    "### Tecnica \"divide y venceras\""
   ]
  },
  {
   "cell_type": "code",
   "execution_count": 39,
   "metadata": {},
   "outputs": [],
   "source": [
    "#quicksort\n",
    "#@calcular_tiempo #para medir la cantidad de llamadas y tiempo de ejecucion\n",
    "def quickSort ( A ) :\n",
    "    \n",
    "    if( len(A) == 1 ) : #cantidad minima de la lista devuelve la misma lista\n",
    "        return A\n",
    "    \n",
    "    elif( len(A) == 2 ) : #con una lista de dos elementos el costo de min y max es minimo\n",
    "        return[min(A), max(A)]\n",
    "    \n",
    "    izq = []\n",
    "    der = []\n",
    "    pivote = (A[0] + A[1] + A[2]) / 3\n",
    "    \n",
    "    # es otra opcion pero representa una doble lectura de la lista \n",
    "    # para determinar el mínimo y máximo\n",
    "    #pivote = ( max(A) - min(A) ) / 2\n",
    "    \n",
    "    for i in A:\n",
    "        if( i <= pivote ):\n",
    "            izq.append(i)\n",
    "        else:\n",
    "            der.append(i)\n",
    "            \n",
    "    return quickSort(izq)+quickSort(der)\n",
    "    "
   ]
  },
  {
   "cell_type": "code",
   "execution_count": 2,
   "metadata": {},
   "outputs": [],
   "source": [
    "#Función para calcular el tiempo de ejecución\n",
    "def calcular_tiempo(f):\n",
    "   \n",
    "    def wrapper(*args, **kwargs):\n",
    "        inicio = time()       \n",
    "        resultado = f(*args, **kwargs)       \n",
    "        tiempo = time() - inicio\n",
    "        print(\"Tiempo de ejecución para algoritmo: \"+str(tiempo))\n",
    "        return resultado\n",
    "    \n",
    "    return wrapper\n",
    "from time import time"
   ]
  },
  {
   "cell_type": "code",
   "execution_count": 3,
   "metadata": {},
   "outputs": [
    {
     "data": {
      "text/plain": [
       "[244,\n",
       " 2035,\n",
       " 2554,\n",
       " 2824,\n",
       " 3506,\n",
       " 4054,\n",
       " 4337,\n",
       " 4447,\n",
       " 4519,\n",
       " 4993,\n",
       " 5265,\n",
       " 5470,\n",
       " 7182,\n",
       " 7379,\n",
       " 7580,\n",
       " 8357,\n",
       " 8373,\n",
       " 9187,\n",
       " 9222]"
      ]
     },
     "execution_count": 3,
     "metadata": {},
     "output_type": "execute_result"
    }
   ],
   "source": [
    "#uso de la funcion con un ejemplo\n",
    "A = [9187, 244, 4054, 9222, 8373, 4993, 5265, 5470, 4519, 7182, 2035, 3506, 4337, 7580, 2554, 2824, 8357, 4447, 7379]\n",
    "\n",
    "quickSort(A)"
   ]
  },
  {
   "cell_type": "code",
   "execution_count": 4,
   "metadata": {},
   "outputs": [
    {
     "name": "stdout",
     "output_type": "stream",
     "text": [
      "Tiempo de ejecución para algoritmo: 0.0\n",
      "[244, 2035, 2554, 2824, 3506, 4054, 4337, 4447, 4519, 4993, 5265, 5470, 7182, 7379, 7580, 8357, 8373, 9187, 9222]\n"
     ]
    }
   ],
   "source": [
    "@calcular_tiempo\n",
    "def QS(lista):\n",
    "    return quickSort(lista)\n",
    "\n",
    "print(QS(A))"
   ]
  },
  {
   "cell_type": "markdown",
   "metadata": {},
   "source": [
    "### Algoritmos voraces"
   ]
  },
  {
   "cell_type": "code",
   "execution_count": 38,
   "metadata": {},
   "outputs": [],
   "source": [
    "sistema = [ 25, 10, 5, 1 ]\n",
    "@calcular_tiempo\n",
    "def cambio_monedas ( cantidad, sistema) :\n",
    "    solucion = [ 0 for i in sistema ]\n",
    "    acumulado = 0\n",
    "    \n",
    "    for i in range(len(sistema)):\n",
    "        monedas = int( ( cantidad - acumulado ) / sistema[i] )\n",
    "        solucion[i] = monedas\n",
    "        acumulado += monedas * sistema[i]\n",
    "        if acumulado == cantidad:\n",
    "            return solucion\n"
   ]
  },
  {
   "cell_type": "code",
   "execution_count": 36,
   "metadata": {},
   "outputs": [
    {
     "name": "stdout",
     "output_type": "stream",
     "text": [
      "Tiempo de ejecución para algoritmo: 0.0\n",
      "[1, 0, 1, 3]\n"
     ]
    }
   ],
   "source": [
    "print(cambio_monedas(33, sistema))"
   ]
  },
  {
   "cell_type": "markdown",
   "metadata": {},
   "source": [
    "### Tecnica vuelta atras"
   ]
  },
  {
   "cell_type": "code",
   "execution_count": 63,
   "metadata": {},
   "outputs": [],
   "source": [
    "def es_prometedora( solucion, etapa ):\n",
    "    for i in range(etapa+1):\n",
    "        if solucion.count( solucion[ i ] ) > 1:\n",
    "            return False\n",
    "        for j in range(i+1, etapa+1):\n",
    "            if( abs( i - j ) == abs( solucion[i] - solucion[j] ) ):\n",
    "                return False\n",
    "    return True\n",
    "\n",
    "def escribe( sol ) :\n",
    "  n = len( sol )\n",
    "  for x in range(n):\n",
    "    print(\"\")\n",
    "    for i in range(n):\n",
    "      if sol[i] == x+1:\n",
    "        print(\" X \" , end=\"\")\n",
    "      else:\n",
    "        print(\" - \", end=\"\")\n",
    "\n",
    "def reinas( numero, solucion, etapa ):\n",
    "    \n",
    "    for i in range( 1, numero + 1 ) :\n",
    "        solucion[etapa] = i\n",
    "        if es_prometedora( solucion, etapa ):\n",
    "            if etapa == numero - 1:\n",
    "                print(\"\\n\\n Solucion:\")\n",
    "                print( solucion )\n",
    "                escribe( solucion )\n",
    "            else:\n",
    "                reinas( numero, solucion, etapa + 1 )\n",
    "        else:\n",
    "            None\n",
    "\n",
    "        solucion[etapa] = 0"
   ]
  },
  {
   "cell_type": "code",
   "execution_count": 64,
   "metadata": {},
   "outputs": [
    {
     "name": "stdout",
     "output_type": "stream",
     "text": [
      "\n",
      "\n",
      " Solucion:\n",
      "[2, 4, 1, 3]\n",
      "\n",
      " -  -  X  - \n",
      " X  -  -  - \n",
      " -  -  -  X \n",
      " -  X  -  - \n",
      "\n",
      " Solucion:\n",
      "[3, 1, 4, 2]\n",
      "\n",
      " -  X  -  - \n",
      " -  -  -  X \n",
      " X  -  -  - \n",
      " -  -  X  - "
     ]
    }
   ],
   "source": [
    "cantidad = 4\n",
    "\n",
    "solucion = [ 0 for i in range( cantidad ) ]\n",
    "etapa = 0\n",
    "\n",
    "reinas( cantidad, solucion, etapa )"
   ]
  }
 ],
 "metadata": {
  "kernelspec": {
   "display_name": "Python 3",
   "language": "python",
   "name": "python3"
  },
  "language_info": {
   "codemirror_mode": {
    "name": "ipython",
    "version": 3
   },
   "file_extension": ".py",
   "mimetype": "text/x-python",
   "name": "python",
   "nbconvert_exporter": "python",
   "pygments_lexer": "ipython3",
   "version": "3.7.0"
  }
 },
 "nbformat": 4,
 "nbformat_minor": 2
}
