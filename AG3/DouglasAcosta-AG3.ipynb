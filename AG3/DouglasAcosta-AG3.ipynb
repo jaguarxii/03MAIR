{
 "cells": [
  {
   "cell_type": "markdown",
   "metadata": {},
   "source": [
    "### AG3 - Actividad Guiada 3\n",
    "\n",
    "### Douglas Humberto Acosta Egas\n",
    "\n",
    "### URL: https://github.com/jaguarxii/03MAIR-AlgoritmosOptimizacion/blob/master/AG3/DouglasAcosta-AG3.ipynb\n"
   ]
  },
  {
   "cell_type": "markdown",
   "metadata": {},
   "source": [
    "## Busqueda Aleatoria"
   ]
  },
  {
   "cell_type": "code",
   "execution_count": 1,
   "metadata": {},
   "outputs": [
    {
     "data": {
      "text/plain": [
       "('swiss42.tsp', <http.client.HTTPMessage at 0x1b7cb759ba8>)"
      ]
     },
     "execution_count": 1,
     "metadata": {},
     "output_type": "execute_result"
    }
   ],
   "source": [
    "import urllib.request\n",
    "\n",
    "file = \"swiss42.tsp\"\n",
    "\n",
    "urllib.request.urlretrieve(\"http://elib.zib.de/pub/mp-testdata/tsp/tsplib/tsp/swiss42.tsp\", file)\n"
   ]
  },
  {
   "cell_type": "code",
   "execution_count": 2,
   "metadata": {},
   "outputs": [
    {
     "name": "stdout",
     "output_type": "stream",
     "text": [
      "Requirement already satisfied: tsplib95 in c:\\programdata\\anaconda3\\lib\\site-packages (0.3.2)\n",
      "Requirement already satisfied: Click>=6.0 in c:\\programdata\\anaconda3\\lib\\site-packages (from tsplib95) (6.7)\n",
      "Requirement already satisfied: networkx==2.1 in c:\\programdata\\anaconda3\\lib\\site-packages (from tsplib95) (2.1)\n",
      "Requirement already satisfied: decorator>=4.1.0 in c:\\programdata\\anaconda3\\lib\\site-packages (from networkx==2.1->tsplib95) (4.3.0)\n"
     ]
    },
    {
     "name": "stderr",
     "output_type": "stream",
     "text": [
      "You are using pip version 18.1, however version 19.0.3 is available.\n",
      "You should consider upgrading via the 'python -m pip install --upgrade pip' command.\n"
     ]
    }
   ],
   "source": [
    "!pip install tsplib95"
   ]
  },
  {
   "cell_type": "code",
   "execution_count": 3,
   "metadata": {},
   "outputs": [],
   "source": [
    "import tsplib95\n",
    "import random\n",
    "from math import e\n",
    "\n",
    "problem = tsplib95.load_problem(file)\n",
    "\n",
    "\n",
    "#Nodos\n",
    "Nodos = list(problem.get_nodes())\n",
    "\n",
    "#Aristas\n",
    "Aristas = list(problem.get_edges()) "
   ]
  },
  {
   "cell_type": "code",
   "execution_count": 4,
   "metadata": {},
   "outputs": [],
   "source": [
    "# devuelve el factorial de un numero\n",
    "def factorial(n):\n",
    "    if n== 0:\n",
    "        return 1\n",
    "    else:\n",
    "        return n * factorial(n-1)"
   ]
  },
  {
   "cell_type": "code",
   "execution_count": 5,
   "metadata": {},
   "outputs": [],
   "source": [
    "#Generador de soluciones aleatorias incluyendo el nodo 0\n",
    "def crear_solucion(Nodos):\n",
    "    solucion = [0]\n",
    "    for i in range(len(Nodos)-1):\n",
    "        solucion = solucion + [random.choice(list(set(Nodos) - set({0}) - set(solucion)))]\n",
    "    return solucion"
   ]
  },
  {
   "cell_type": "code",
   "execution_count": 6,
   "metadata": {
    "scrolled": true
   },
   "outputs": [
    {
     "data": {
      "text/plain": [
       "[0,\n",
       " 23,\n",
       " 2,\n",
       " 4,\n",
       " 30,\n",
       " 29,\n",
       " 6,\n",
       " 3,\n",
       " 24,\n",
       " 28,\n",
       " 14,\n",
       " 19,\n",
       " 9,\n",
       " 27,\n",
       " 26,\n",
       " 5,\n",
       " 22,\n",
       " 17,\n",
       " 41,\n",
       " 18,\n",
       " 15,\n",
       " 7,\n",
       " 21,\n",
       " 39,\n",
       " 40,\n",
       " 37,\n",
       " 25,\n",
       " 16,\n",
       " 11,\n",
       " 8,\n",
       " 32,\n",
       " 35,\n",
       " 12,\n",
       " 34,\n",
       " 20,\n",
       " 10,\n",
       " 31,\n",
       " 13,\n",
       " 1,\n",
       " 36,\n",
       " 38,\n",
       " 33]"
      ]
     },
     "execution_count": 6,
     "metadata": {},
     "output_type": "execute_result"
    }
   ],
   "source": [
    "crear_solucion(Nodos)"
   ]
  },
  {
   "cell_type": "code",
   "execution_count": 7,
   "metadata": {},
   "outputs": [],
   "source": [
    "#Devuelve la distancia entre dos nodos\n",
    "def distancia(a,b, problem):\n",
    "    return problem.wfunc(a,b)"
   ]
  },
  {
   "cell_type": "code",
   "execution_count": 8,
   "metadata": {
    "scrolled": true
   },
   "outputs": [
    {
     "data": {
      "text/plain": [
       "30"
      ]
     },
     "execution_count": 8,
     "metadata": {},
     "output_type": "execute_result"
    }
   ],
   "source": [
    "distancia(0,2,problem)"
   ]
  },
  {
   "cell_type": "code",
   "execution_count": 9,
   "metadata": {},
   "outputs": [],
   "source": [
    "#sumatoria de aristas\n",
    "def distancia_total(solucion, problem):\n",
    "    distancia_total=0\n",
    "    for i in range(len(solucion)-1):\n",
    "        distancia_total += distancia(solucion[i], solucion[i+1], problem)\n",
    "    return distancia_total + distancia(solucion[len(solucion)-1], solucion[0], problem)"
   ]
  },
  {
   "cell_type": "code",
   "execution_count": 10,
   "metadata": {},
   "outputs": [
    {
     "data": {
      "text/plain": [
       "4695"
      ]
     },
     "execution_count": 10,
     "metadata": {},
     "output_type": "execute_result"
    }
   ],
   "source": [
    "distancia_total(crear_solucion(Nodos), problem)"
   ]
  },
  {
   "cell_type": "code",
   "execution_count": 11,
   "metadata": {},
   "outputs": [],
   "source": [
    "def busqueda_aleatoria(problem, N):\n",
    "    Nodos = list(problem.get_nodes())\n",
    "    \n",
    "    mejor_solucion = []\n",
    "    mejor_distancia = 10e1000\n",
    "    \n",
    "    for i in range(N):\n",
    "        solucion = crear_solucion(Nodos)\n",
    "        distancia = distancia_total(solucion, problem)\n",
    "        \n",
    "        if distancia < mejor_distancia:\n",
    "            mejor_solucion = solucion\n",
    "            mejor_distancia = distancia\n",
    "    print(\"Mejor solucion: \", mejor_solucion)\n",
    "    print(\"Mejor distancia: \", mejor_distancia)\n",
    "    return mejor_solucion"
   ]
  },
  {
   "cell_type": "code",
   "execution_count": 12,
   "metadata": {
    "scrolled": true
   },
   "outputs": [
    {
     "name": "stdout",
     "output_type": "stream",
     "text": [
      "Mejor solucion:  [0, 16, 27, 26, 38, 21, 10, 3, 41, 24, 40, 39, 35, 7, 12, 23, 36, 2, 28, 22, 11, 25, 33, 30, 8, 9, 18, 14, 4, 5, 31, 17, 1, 19, 32, 37, 15, 13, 6, 20, 34, 29]\n",
      "Mejor distancia:  3863\n"
     ]
    }
   ],
   "source": [
    "sol = busqueda_aleatoria(problem, 800)"
   ]
  },
  {
   "cell_type": "markdown",
   "metadata": {},
   "source": [
    "## Busqueda local"
   ]
  },
  {
   "cell_type": "code",
   "execution_count": 13,
   "metadata": {},
   "outputs": [],
   "source": [
    "def genera_vecina(solucion) :\n",
    "  #Generador de soluciones vecinas: 2-opt (intercambiar 2 nodos) Si hay N nodos se generan (N-1)x(N-2)/2 soluciones\n",
    "  #print(solucion)\n",
    "  mejor_solucion = []\n",
    "  mejor_distancia = 10e100\n",
    "  for i in range(1,len(solucion)-1):\n",
    "    for j in range(i+1, len(solucion)):\n",
    "      vecina = solucion[:i] + [solucion[j]] + solucion[i+1:j] + [solucion[i]] + solucion[j+1:]\n",
    "      distancia_vecina = distancia_total(vecina, problem)\n",
    "      if distancia_vecina <= mejor_distancia:\n",
    "        mejor_distancia = distancia_vecina\n",
    "        mejor_solucion = vecina\n",
    "  return mejor_solucion"
   ]
  },
  {
   "cell_type": "code",
   "execution_count": 14,
   "metadata": {
    "scrolled": true
   },
   "outputs": [
    {
     "name": "stdout",
     "output_type": "stream",
     "text": [
      "[0, 1, 7, 22, 40, 2, 37, 36, 21, 34, 13, 4, 38, 6, 18, 31, 39, 26, 14, 8, 16, 23, 17, 15, 11, 35, 5, 25, 33, 20, 10, 29, 9, 19, 41, 3, 32, 27, 24, 30, 28, 12]\n",
      "[0, 1, 7, 22, 40, 2, 37, 36, 21, 34, 13, 4, 38, 6, 18, 31, 39, 26, 14, 8, 16, 19, 17, 15, 11, 35, 5, 25, 33, 20, 10, 29, 9, 23, 41, 3, 32, 27, 24, 30, 28, 12]\n"
     ]
    }
   ],
   "source": [
    "solucion = crear_solucion(Nodos)\n",
    "print(solucion)\n",
    "nueva_solucion = genera_vecina(solucion)\n",
    "print(nueva_solucion)\n"
   ]
  },
  {
   "cell_type": "code",
   "execution_count": 15,
   "metadata": {},
   "outputs": [],
   "source": [
    "def busqueda_local( problem, N ) :\n",
    "    mejor_solucion = []\n",
    "    mejor_distancia = 10e1000\n",
    "    Nodos = list(problem.get_nodes())\n",
    "    \n",
    "    solucion_referencia = crear_solucion(Nodos)\n",
    "    \n",
    "    for i in range(N):\n",
    "        vecina = genera_vecina(solucion_referencia)\n",
    "        distancia_vecina = distancia_total(vecina, problem)\n",
    "        \n",
    "        if distancia_vecina < mejor_distancia :\n",
    "            mejor_solucion = vecina\n",
    "            mejor_distancia = distancia_vecina\n",
    "        \n",
    "        solucion_referencia = vecina\n",
    "    \n",
    "    print(\"Mejor solucion: \", mejor_solucion)\n",
    "    print(\"Mejor distancia: \", mejor_distancia)\n",
    "    return mejor_solucion"
   ]
  },
  {
   "cell_type": "code",
   "execution_count": 16,
   "metadata": {
    "scrolled": true
   },
   "outputs": [
    {
     "name": "stdout",
     "output_type": "stream",
     "text": [
      "Mejor solucion:  [0, 12, 11, 10, 8, 9, 23, 41, 25, 18, 26, 4, 29, 39, 21, 24, 40, 2, 27, 32, 34, 20, 33, 38, 22, 30, 28, 3, 6, 5, 13, 19, 14, 16, 36, 35, 31, 17, 37, 15, 7, 1]\n",
      "Mejor distancia:  1724\n"
     ]
    }
   ],
   "source": [
    "sol = busqueda_local(problem, 100)"
   ]
  },
  {
   "cell_type": "code",
   "execution_count": 17,
   "metadata": {},
   "outputs": [],
   "source": [
    "def genera_vecina_aleatorio(solucion):\n",
    "  #Generador de 1 solucion vecina 2-opt (intercambiar 2 nodos)\n",
    "  #Se puede mejorar haciendo que la elección no se uniforme sino entre las que estén más proximas\n",
    "  i = random.choice(range(1, len(solucion)) )\n",
    "  j = random.choice(list(set(range(1, len(solucion))) - {i}))\n",
    "  vecina = solucion[:i] + [solucion[j]] + solucion[i+1:j] + [solucion[i]] + solucion[j+1:]\n",
    "  return vecina"
   ]
  },
  {
   "cell_type": "code",
   "execution_count": 18,
   "metadata": {},
   "outputs": [],
   "source": [
    "def probabilidad(T,d):\n",
    "  r=random.random();\n",
    "  if(r <= (e**(-1*d)/(T*1.0))):\n",
    "    return True\n",
    "  else:\n",
    "    return False"
   ]
  },
  {
   "cell_type": "code",
   "execution_count": 19,
   "metadata": {},
   "outputs": [],
   "source": [
    "def bajar_temperatura(T):\n",
    "    return T-1"
   ]
  },
  {
   "cell_type": "code",
   "execution_count": 20,
   "metadata": {},
   "outputs": [],
   "source": [
    "def recocido_simulado(problem, TEMPERATURA):\n",
    "  #problem = datos del problema\n",
    "  #T = Temperatura\n",
    "  \n",
    "  solucion_referencia = crear_solucion(Nodos)\n",
    "  distancia_referencia = distancia_total(solucion_referencia, problem)\n",
    "  \n",
    "  mejor_solucion = []\n",
    "  mejor_distancia = 10e100\n",
    "  \n",
    "  while TEMPERATURA > 0:\n",
    "    #Genera una solución vecina(aleatoria)\n",
    "\n",
    "    #cambiamos la vecina aleatoria\n",
    "    #vecina = genera_vecina_aleatorio(solucion_referencia)\n",
    "    vecina = genera_vecina(solucion_referencia)\n",
    "    \n",
    "    #Calcula su valor(distancia)\n",
    "    distancia_vecina = distancia_total(vecina, problem)\n",
    "    \n",
    "    #Si es la mejor solución de todas se guarda\n",
    "    if distancia_vecina < mejor_distancia:\n",
    "        mejor_solucion = vecina\n",
    "        mejor_distancia = distancia_vecina\n",
    "    \n",
    "    #Si la nueva vecina es mejor se cambia y si es peor se cambia según una probabilidad dependiente de T y de |distancia_referencia - distancia_vecina|\n",
    "    if distancia_vecina < distancia_referencia or probabilidad(TEMPERATURA, abs(distancia_referencia - distancia_vecina) ) :\n",
    "      solucion_referencia = vecina\n",
    "      distancia_referencia = distancia_vecina\n",
    "\n",
    "    TEMPERATURA = bajar_temperatura(TEMPERATURA)\n",
    "  \n",
    "  print(\"La mejor solución encontrada es \" , end=\"\")\n",
    "  print(mejor_solucion)\n",
    "  print(\"con una distancia total de \" , end=\"\")\n",
    "  print(mejor_distancia)\n",
    "  return mejor_solucion\n"
   ]
  },
  {
   "cell_type": "code",
   "execution_count": 21,
   "metadata": {},
   "outputs": [
    {
     "name": "stdout",
     "output_type": "stream",
     "text": [
      "La mejor solución encontrada es [0, 30, 21, 40, 24, 39, 29, 28, 2, 27, 32, 20, 33, 34, 38, 22, 9, 23, 41, 8, 4, 6, 1, 7, 17, 31, 35, 36, 37, 15, 16, 14, 19, 13, 5, 26, 18, 12, 11, 25, 10, 3]\n",
      "con una distancia total de 1579\n"
     ]
    }
   ],
   "source": [
    "sol = recocido_simulado(problem, 100)"
   ]
  },
  {
   "cell_type": "markdown",
   "metadata": {},
   "source": [
    "## Metaheuristicas"
   ]
  },
  {
   "cell_type": "code",
   "execution_count": 23,
   "metadata": {},
   "outputs": [],
   "source": [
    "def Add_Nodo(problem, H ,T ) :\n",
    "  #Establecer una una funcion de probabilidad para \n",
    "  # añadir un nuevo nodo dependiendo de los nodos mas cercanos y de las feromonas depositadas\n",
    "  Nodos = list(problem.get_nodes())\n",
    "  return random.choice(   list(set(range(1,len(Nodos))) - set(H) )  )\n",
    "\n",
    "def Incrementa_Feromona(problem, T, H):\n",
    "  #Incrementar segun la calidad de la solución. Añadir una cantidad inversamente proporcional a la distancia total \n",
    "  for i in range(len(H)-1):\n",
    "    T[H[i]][H[i+1]] += 1000/distancia_total(H, problem)\n",
    "  return T\n",
    "\n",
    "def Evaporar_Feromonas(T):\n",
    "  #Podemos elegir diferentes funciones de evaporación dependiendo de la cantidad actual y de la suma total de feromonas depositadas,...\n",
    "  #Evapora 0.3 el valor de la feromona, sin que baje de 1\n",
    "  T = [[ max(T[i][j] - 0.3 , 1) for i in range(len(Nodos)) ] for j in range(len(Nodos))]\n",
    "  return T"
   ]
  },
  {
   "cell_type": "code",
   "execution_count": 24,
   "metadata": {},
   "outputs": [],
   "source": [
    "def hormigas(problem, N):\n",
    "  #problem = datos del problema\n",
    "  #N = Número de agentes(hormigas)\n",
    "    \n",
    "  #Nodos\n",
    "  Nodos = list(problem.get_nodes())\n",
    "    #Aristas\n",
    "  Aristas = list(problem.get_edges()) \n",
    "  \n",
    "  #Inicializa las aristas con una cantidad inicial de feromonas:1\n",
    "  T = [[ 1 for _ in range(len(Nodos)) ] for _ in range(len(Nodos))]\n",
    "  \n",
    "  #Se generan los agentes(hormigas) que serán estructuras de caminos desde 0\n",
    "  Hormiga = [[0] for _ in range(N)]\n",
    "  \n",
    "  #Recorre cada agente construyendo la solución\n",
    "  for h in range(N):\n",
    "    #print(\"\\nAgente:\", h)\n",
    "    #Para cada agente se construye un camino\n",
    "    for i in range(len(Nodos)-1):\n",
    "      \n",
    "      #Elige el siguiente nodo\n",
    "      Nuevo_Nodo = Add_Nodo(problem, Hormiga[h] ,T )\n",
    "      \n",
    "      Hormiga[h].append(Nuevo_Nodo)     \n",
    "    \n",
    "    #Incrementa feromonas en esa arista \n",
    "    T = Incrementa_Feromona(problem, T, Hormiga[h] )\n",
    "    #print(\"Feromonas(1)\", T)\n",
    "      \n",
    "    #Evapora Feromonas  \n",
    "    T = Evaporar_Feromonas(T)\n",
    "    #print(\"Feromonas(2)\", T)\n",
    "\n",
    "    #Seleccionamos el mejor agente\n",
    "  mejor_solucion = []\n",
    "  mejor_distancia = 10e100\n",
    "  for h in range(N):\n",
    "    distancia_actual = distancia_total(Hormiga[h], problem)\n",
    "    if distancia_actual < mejor_distancia:\n",
    "      mejor_solucion = Hormiga[h]\n",
    "      mejor_distancia =distancia_actual\n",
    "  \n",
    "  \n",
    "  print(mejor_solucion)\n",
    "  print(mejor_distancia)\n",
    "  "
   ]
  },
  {
   "cell_type": "code",
   "execution_count": 25,
   "metadata": {},
   "outputs": [
    {
     "name": "stdout",
     "output_type": "stream",
     "text": [
      "[0, 19, 16, 15, 8, 20, 14, 22, 38, 5, 17, 27, 35, 34, 24, 39, 29, 30, 33, 7, 25, 41, 21, 23, 32, 9, 1, 6, 28, 10, 13, 37, 36, 2, 3, 31, 4, 12, 11, 40, 26, 18]\n",
      "3905\n"
     ]
    }
   ],
   "source": [
    "hormigas(problem, 1000)"
   ]
  }
 ],
 "metadata": {
  "kernelspec": {
   "display_name": "Python 3",
   "language": "python",
   "name": "python3"
  },
  "language_info": {
   "codemirror_mode": {
    "name": "ipython",
    "version": 3
   },
   "file_extension": ".py",
   "mimetype": "text/x-python",
   "name": "python",
   "nbconvert_exporter": "python",
   "pygments_lexer": "ipython3",
   "version": "3.7.0"
  }
 },
 "nbformat": 4,
 "nbformat_minor": 2
}
