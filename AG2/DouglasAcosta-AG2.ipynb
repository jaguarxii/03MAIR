{
 "cells": [
  {
   "cell_type": "markdown",
   "metadata": {},
   "source": [
    "### AG2 - Actividad Guiada 2\n",
    "\n",
    "### Douglas HUmberto Acosta Egas\n",
    "\n",
    "### URL: \n",
    "\n"
   ]
  },
  {
   "cell_type": "code",
   "execution_count": 1,
   "metadata": {},
   "outputs": [],
   "source": [
    "import math\n",
    "import random"
   ]
  },
  {
   "cell_type": "code",
   "execution_count": 2,
   "metadata": {},
   "outputs": [],
   "source": [
    "#Función para calcular el tiempo de ejecución\n",
    "def calcular_tiempo(f):\n",
    "   \n",
    "    def wrapper(*args, **kwargs):\n",
    "        inicio = time()       \n",
    "        resultado = f(*args, **kwargs)       \n",
    "        tiempo = time() - inicio\n",
    "        print(\"Tiempo de ejecución para algoritmo: \"+str(tiempo))\n",
    "        return resultado\n",
    "    \n",
    "    return wrapper\n",
    "from time import time"
   ]
  },
  {
   "cell_type": "code",
   "execution_count": 3,
   "metadata": {},
   "outputs": [],
   "source": [
    "def distancia(A,B):\n",
    "    if type(A) is int or type(A) is float:\n",
    "        return abs(A-B)\n",
    "    else:\n",
    "        return math.sqrt(sum([(A[i]-B[i])**2 for i in range(len(A))]))"
   ]
  },
  {
   "cell_type": "code",
   "execution_count": 4,
   "metadata": {},
   "outputs": [
    {
     "name": "stdout",
     "output_type": "stream",
     "text": [
      "probar su funcionamiento en una dimension\n",
      "5\n"
     ]
    }
   ],
   "source": [
    "print(\"probar su funcionamiento en una dimension\")\n",
    "\n",
    "print(distancia(10, 5))"
   ]
  },
  {
   "cell_type": "code",
   "execution_count": 5,
   "metadata": {},
   "outputs": [
    {
     "name": "stdout",
     "output_type": "stream",
     "text": [
      "probar su funcionamiento en una dimension\n",
      "5.0\n"
     ]
    }
   ],
   "source": [
    "print(\"probar su funcionamiento en una dimension\")\n",
    "\n",
    "print(distancia((0,0), (3,4)))"
   ]
  },
  {
   "cell_type": "markdown",
   "metadata": {},
   "source": [
    "### algoritmo de fuerza bruta"
   ]
  },
  {
   "cell_type": "code",
   "execution_count": 6,
   "metadata": {},
   "outputs": [],
   "source": [
    "\n",
    "def distancia_bf(lista):\n",
    "    dist_actual = 10e10000\n",
    "    dist_nueva = 0\n",
    "    A,B = (), ()\n",
    "    for i in range(len(lista)):\n",
    "        for j in range(i+1, len(lista)):\n",
    "            dist_nueva = distancia( lista[i], lista[j] )\n",
    "            if dist_nueva < dist_actual :\n",
    "                A, B = lista[i], lista[j]\n",
    "                dist_actual = dist_nueva\n",
    "                                   \n",
    "    #print(\"distancia: \" + str(dist_actual) + \"\\n\")\n",
    "    return A, B\n",
    "\n",
    "@calcular_tiempo\n",
    "def ldistancia_bf(lista):\n",
    "    return distancia_bf(lista)"
   ]
  },
  {
   "cell_type": "code",
   "execution_count": 7,
   "metadata": {},
   "outputs": [
    {
     "name": "stdout",
     "output_type": "stream",
     "text": [
      "\n",
      " con 50 elementos\n",
      "Tiempo de ejecución para algoritmo: 0.005951404571533203\n",
      "((2794, 4385), (2843, 4402))\n",
      "\n",
      " con 100 elementos\n",
      "Tiempo de ejecución para algoritmo: 0.028272151947021484\n",
      "((4640, 1281), (4619, 1270))\n",
      "\n",
      " con 1000 elementos\n",
      "Tiempo de ejecución para algoritmo: 2.0435092449188232\n",
      "((66439, 6846), (66439, 6872))\n",
      "\n",
      " con 3000 elementos\n",
      "Tiempo de ejecución para algoritmo: 17.817180395126343\n",
      "((149987, 46653), (150096, 46626))\n"
     ]
    }
   ],
   "source": [
    "print(\"\\n con 50 elementos\")\n",
    "items = 50\n",
    "lista_2d = [(random.randrange(1, items*100), random.randrange(1, items*100)) for _ in range(items)]\n",
    "print(ldistancia_bf(lista_2d))\n",
    "\n",
    "print(\"\\n con 100 elementos\")\n",
    "items = 100\n",
    "lista_2d = [(random.randrange(1, items*100), random.randrange(1, items*100)) for _ in range(items)]\n",
    "print(ldistancia_bf(lista_2d))\n",
    "\n",
    "print(\"\\n con 1000 elementos\")\n",
    "items = 1000\n",
    "lista_2d = [(random.randrange(1, items*100), random.randrange(1, items*100)) for _ in range(items)]\n",
    "print(ldistancia_bf(lista_2d))\n",
    "\n",
    "print(\"\\n con 3000 elementos\")\n",
    "items = 3000\n",
    "lista_2d = [(random.randrange(1, items*100), random.randrange(1, items*100)) for _ in range(items)]\n",
    "print(ldistancia_bf(lista_2d))"
   ]
  },
  {
   "cell_type": "markdown",
   "metadata": {},
   "source": [
    "### divide y venceras"
   ]
  },
  {
   "cell_type": "code",
   "execution_count": 8,
   "metadata": {},
   "outputs": [],
   "source": [
    "def distancia_dyv(lista):\n",
    "    if ( len(lista) <= 10 ):\n",
    "        #print ( \"fuerza bruta\" )\n",
    "        return distancia_bf(lista)\n",
    "    \n",
    "    pivot = sum( [ lista[i][0] for i in range( len( lista ) ) ] ) / len( lista )\n",
    "    \n",
    "    lista_i = sorted( lista, key = lambda x: x[0] )[ : len(lista) // 2 ]\n",
    "    lista_d = sorted( lista, key = lambda x: x[0] )[ len(lista) // 2 : ]\n",
    "    \n",
    "    return distancia_dyv( distancia_dyv( lista_i ) + distancia_dyv( lista_d ) )\n",
    "\n",
    "@calcular_tiempo\n",
    "def ldistancia_dyv(lista):\n",
    "    return distancia_dyv(lista)"
   ]
  },
  {
   "cell_type": "code",
   "execution_count": 9,
   "metadata": {
    "scrolled": true
   },
   "outputs": [
    {
     "name": "stdout",
     "output_type": "stream",
     "text": [
      "\n",
      " con 5 elementos\n",
      "Tiempo de ejecución para algoritmo: 0.0\n",
      "\n",
      " con 50 elementos\n",
      "Tiempo de ejecución para algoritmo: 0.0009970664978027344\n",
      "\n",
      " con 500 elementos\n",
      "Tiempo de ejecución para algoritmo: 0.018352985382080078\n",
      "\n",
      " con 1000 elementos\n",
      "Tiempo de ejecución para algoritmo: 0.02380967140197754\n"
     ]
    },
    {
     "data": {
      "text/plain": [
       "((12370, 62404), (12385, 62428))"
      ]
     },
     "execution_count": 9,
     "metadata": {},
     "output_type": "execute_result"
    }
   ],
   "source": [
    "print(\"\\n con 5 elementos\")\n",
    "items = 5\n",
    "lista_2d = [(random.randrange(1, items*100), random.randrange(1, items*100)) for _ in range(items)]\n",
    "ldistancia_dyv(lista_2d)\n",
    "\n",
    "print(\"\\n con 50 elementos\")\n",
    "items = 50\n",
    "lista_2d = [(random.randrange(1, items*100), random.randrange(1, items*100)) for _ in range(items)]\n",
    "ldistancia_dyv(lista_2d)\n",
    "\n",
    "print(\"\\n con 500 elementos\")\n",
    "items = 500\n",
    "lista_2d = [(random.randrange(1, items*100), random.randrange(1, items*100)) for _ in range(items)]\n",
    "ldistancia_dyv(lista_2d)\n",
    "\n",
    "print(\"\\n con 1000 elementos\")\n",
    "items = 1000\n",
    "lista_2d = [(random.randrange(1, items*100), random.randrange(1, items*100)) for _ in range(items)]\n",
    "ldistancia_dyv(lista_2d)\n"
   ]
  },
  {
   "cell_type": "markdown",
   "metadata": {},
   "source": [
    "### programacion dinamica\n",
    "\n",
    "Paseo por el rio"
   ]
  },
  {
   "cell_type": "code",
   "execution_count": 16,
   "metadata": {},
   "outputs": [],
   "source": [
    "tarifas =  [\n",
    "[0,5,4,3,999,999,999],\n",
    "[999,0,999,2,3,999,11],\n",
    "[999,999, 0,1,999,4,10],\n",
    "[999,999,999, 0,5,6,9],\n",
    "[999,999, 999,999,0,999,4],\n",
    "[999,999, 999,999,999,0,3],\n",
    "[999,999,999,999,999,999,0]\n",
    "]\n",
    "\n",
    "def precios( tarifas ):\n",
    "    nodos = len( tarifas[ 0 ] )\n",
    "    \n",
    "    precios = [ [9999] * nodos for i in [9999] * nodos ]\n",
    "    ruta = [ [ \"\" ] * nodos for i in [ \"\" ] * nodos ]\n",
    "    \n",
    "    for i in range( nodos - 1 ) :\n",
    "        for j in range( i + 1, nodos ) :\n",
    "            minimo = tarifas[ i ][ j ]\n",
    "            ruta[ i ][ j ] = i\n",
    "            \n",
    "            for k in range( i, j ) :\n",
    "                if precios[ i ][ k ] + tarifas[ k ][ j ] < minimo:\n",
    "                    minimo = min( minimo, precios[ i ][ k ] + tarifas[ k ][ j ]  )\n",
    "                    ruta[ i ][ j ] = k\n",
    "                precios[ i ][ j ] = minimo\n",
    "    return precios, ruta\n",
    "\n",
    "@calcular_tiempo\n",
    "def lprecios( tarifas ):\n",
    "    return  precios( tarifas )\n",
    "\n",
    "def calcular_ruta( RUTA, desde, hasta ) :\n",
    "  if desde == hasta :\n",
    "    #print(\"Ir a :\" + str(desde))\n",
    "    return desde \n",
    "  else:\n",
    "    return str(calcular_ruta(RUTA, desde, RUTA[desde][hasta])) +  ',' + str(RUTA[desde][hasta]) \n"
   ]
  },
  {
   "cell_type": "code",
   "execution_count": 17,
   "metadata": {},
   "outputs": [
    {
     "name": "stdout",
     "output_type": "stream",
     "text": [
      "Tiempo de ejecución para algoritmo: 0.0004558563232421875\n"
     ]
    },
    {
     "data": {
      "text/plain": [
       "[[9999, 5, 4, 3, 8, 8, 11],\n",
       " [9999, 9999, 999, 2, 3, 8, 7],\n",
       " [9999, 9999, 9999, 1, 6, 4, 7],\n",
       " [9999, 9999, 9999, 9999, 5, 6, 9],\n",
       " [9999, 9999, 9999, 9999, 9999, 999, 4],\n",
       " [9999, 9999, 9999, 9999, 9999, 9999, 3],\n",
       " [9999, 9999, 9999, 9999, 9999, 9999, 9999]]"
      ]
     },
     "metadata": {},
     "output_type": "display_data"
    },
    {
     "data": {
      "text/plain": [
       "[['', 0, 0, 0, 1, 2, 5],\n",
       " ['', '', 1, 1, 1, 3, 4],\n",
       " ['', '', '', 2, 3, 2, 5],\n",
       " ['', '', '', '', 3, 3, 3],\n",
       " ['', '', '', '', '', 4, 4],\n",
       " ['', '', '', '', '', '', 5],\n",
       " ['', '', '', '', '', '', '']]"
      ]
     },
     "metadata": {},
     "output_type": "display_data"
    },
    {
     "name": "stdout",
     "output_type": "stream",
     "text": [
      "\n",
      "La ruta es:\n"
     ]
    },
    {
     "data": {
      "text/plain": [
       "'0,0,2,5'"
      ]
     },
     "execution_count": 17,
     "metadata": {},
     "output_type": "execute_result"
    }
   ],
   "source": [
    "p,r = lprecios(tarifas)\n",
    "display(p)\n",
    "display(r)\n",
    "\n",
    "print(\"\\nLa ruta es:\")  \n",
    "calcular_ruta(r, 0,6)"
   ]
  }
 ],
 "metadata": {
  "kernelspec": {
   "display_name": "Python 3",
   "language": "python",
   "name": "python3"
  },
  "language_info": {
   "codemirror_mode": {
    "name": "ipython",
    "version": 3
   },
   "file_extension": ".py",
   "mimetype": "text/x-python",
   "name": "python",
   "nbconvert_exporter": "python",
   "pygments_lexer": "ipython3",
   "version": "3.7.0"
  }
 },
 "nbformat": 4,
 "nbformat_minor": 2
}
